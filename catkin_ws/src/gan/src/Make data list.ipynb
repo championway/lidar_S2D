{
 "cells": [
  {
   "cell_type": "code",
   "execution_count": 1,
   "metadata": {},
   "outputs": [],
   "source": [
    "import os\n",
    "import random"
   ]
  },
  {
   "cell_type": "code",
   "execution_count": 2,
   "metadata": {},
   "outputs": [],
   "source": [
    "root = \"/media/arg_ws3/5E703E3A703E18EB/data/lidar_S2D/\"\n",
    "img_list = os.listdir(root + \"depth/\")"
   ]
  },
  {
   "cell_type": "code",
   "execution_count": 3,
   "metadata": {},
   "outputs": [],
   "source": [
    "train_file = open(root + \"data_list/train.txt\", \"w\")\n",
    "test_file = open(root + \"data_list/test.txt\", \"w\")\n",
    "ratio = 0.9\n",
    "counter = 0\n",
    "data_number = len(img_list)\n",
    "pick_list = []\n",
    "while counter < data_number:\n",
    "    idx = random.randint(0, data_number - 1)\n",
    "    if idx not in pick_list:\n",
    "        name = img_list[idx].split('.')[0] + '\\n'\n",
    "        if counter < data_number * ratio:\n",
    "            train_file.write(name)\n",
    "        else:\n",
    "            test_file.write(name)\n",
    "        counter = counter + 1\n",
    "train_file.close()\n",
    "test_file.close()"
   ]
  }
 ],
 "metadata": {
  "kernelspec": {
   "display_name": "Python 3",
   "language": "python",
   "name": "python3"
  },
  "language_info": {
   "codemirror_mode": {
    "name": "ipython",
    "version": 3
   },
   "file_extension": ".py",
   "mimetype": "text/x-python",
   "name": "python",
   "nbconvert_exporter": "python",
   "pygments_lexer": "ipython3",
   "version": "3.5.2"
  }
 },
 "nbformat": 4,
 "nbformat_minor": 2
}
