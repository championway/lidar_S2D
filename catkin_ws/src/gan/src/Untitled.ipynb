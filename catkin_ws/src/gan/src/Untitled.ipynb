{
 "cells": [
  {
   "cell_type": "code",
   "execution_count": 41,
   "metadata": {},
   "outputs": [],
   "source": [
    "from PIL import Image\n",
    "import numpy as np\n",
    "import os\n",
    "import cv2\n",
    "import scipy.misc\n",
    "import torch"
   ]
  },
  {
   "cell_type": "code",
   "execution_count": 58,
   "metadata": {},
   "outputs": [
    {
     "name": "stdout",
     "output_type": "stream",
     "text": [
      "3.3969465648854964 3.4\n"
     ]
    },
    {
     "data": {
      "text/plain": [
       "True"
      ]
     },
     "execution_count": 58,
     "metadata": {},
     "output_type": "execute_result"
    }
   ],
   "source": [
    "img_A = Image.open(\"../../../depth1.png\")\n",
    "img_A = np.array(img_A, dtype=\"int32\")/655\n",
    "img_B = Image.open(\"../../../pcl2.png\")\n",
    "img_B = np.array(img_B, dtype=\"int32\")/655\n",
    "'''for j in range(img_B.shape[0]):\n",
    "    for i in range(img_B.shape[1]):\n",
    "        if img_B[j][i] != 0:\n",
    "            print(j, i)'''\n",
    "print(img_A[201, 493], img_B[201, 493])\n",
    "B = torch.tensor(img_B)\n",
    "B.shape[1]\n",
    "B[250][250].numpy().item() == 0"
   ]
  },
  {
   "cell_type": "code",
   "execution_count": 44,
   "metadata": {},
   "outputs": [],
   "source": [
    "key_points = []\n",
    "for j in range(img_B.shape[0]):\n",
    "    for i in range(img_B.shape[1]):\n",
    "        if img_B[j][i] != 0:\n",
    "            key_points.append(img_B[j][i])"
   ]
  },
  {
   "cell_type": "code",
   "execution_count": 46,
   "metadata": {},
   "outputs": [
    {
     "data": {
      "text/plain": [
       "5181"
      ]
     },
     "execution_count": 46,
     "metadata": {},
     "output_type": "execute_result"
    }
   ],
   "source": [
    "len(key_points)"
   ]
  },
  {
   "cell_type": "code",
   "execution_count": 13,
   "metadata": {},
   "outputs": [
    {
     "name": "stdout",
     "output_type": "stream",
     "text": [
      "image dtype  uint16\n",
      "21.96030534351145\n"
     ]
    }
   ],
   "source": [
    "img = cv2.imread(\"../../../pcl2.png\", cv2.IMREAD_ANYDEPTH)\n",
    "print('image dtype ',img.dtype)\n",
    "#img = img.astype(\"int16\")\n",
    "print(img.max()/655)"
   ]
  },
  {
   "cell_type": "code",
   "execution_count": 15,
   "metadata": {},
   "outputs": [
    {
     "name": "stderr",
     "output_type": "stream",
     "text": [
      "/home/arg_ws3/.local/lib/python3.5/site-packages/ipykernel_launcher.py:1: DeprecationWarning: `imread` is deprecated!\n",
      "`imread` is deprecated in SciPy 1.0.0, and will be removed in 1.2.0.\n",
      "Use ``imageio.imread`` instead.\n",
      "  \"\"\"Entry point for launching an IPython kernel.\n"
     ]
    },
    {
     "data": {
      "text/plain": [
       "21.96030534351145"
      ]
     },
     "execution_count": 15,
     "metadata": {},
     "output_type": "execute_result"
    }
   ],
   "source": [
    "tif16 = scipy.misc.imread(\"../../../pcl2.png\")\n",
    "tif16.max()/655"
   ]
  },
  {
   "cell_type": "code",
   "execution_count": null,
   "metadata": {},
   "outputs": [],
   "source": []
  }
 ],
 "metadata": {
  "kernelspec": {
   "display_name": "Python 3",
   "language": "python",
   "name": "python3"
  },
  "language_info": {
   "codemirror_mode": {
    "name": "ipython",
    "version": 3
   },
   "file_extension": ".py",
   "mimetype": "text/x-python",
   "name": "python",
   "nbconvert_exporter": "python",
   "pygments_lexer": "ipython3",
   "version": "3.5.2"
  }
 },
 "nbformat": 4,
 "nbformat_minor": 2
}
